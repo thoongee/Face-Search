{
 "cells": [
  {
   "cell_type": "code",
   "execution_count": 1,
   "id": "6d947a71",
   "metadata": {},
   "outputs": [],
   "source": [
    "import sys\n",
    "sys.path.append(\"../\")"
   ]
  },
  {
   "cell_type": "code",
   "execution_count": 2,
   "id": "eee0f2fd",
   "metadata": {},
   "outputs": [],
   "source": [
    "import os\n",
    "import pickle\n",
    "from PIL import Image\n",
    "import numpy as np\n",
    "from typing import List\n",
    "from tqdm import tqdm\n",
    "\n",
    "from insightface.app import FaceAnalysis\n",
    "from sklearn.neighbors import NearestNeighbors"
   ]
  },
  {
   "cell_type": "code",
   "execution_count": 3,
   "id": "e4fb2e29",
   "metadata": {},
   "outputs": [
    {
     "name": "stdout",
     "output_type": "stream",
     "text": [
      "input mean and std: 127.5 127.5\n",
      "find model: C:\\Users\\CJA/.insightface/models\\antelope\\glintr100.onnx recognition\n",
      "find model: C:\\Users\\CJA/.insightface/models\\antelope\\scrfd_10g_bnkps.onnx detection\n",
      "set det-size: (640, 640)\n"
     ]
    }
   ],
   "source": [
    "app = FaceAnalysis(name=\"antelope\")\n",
    "app.prepare(ctx_id=0, det_size=(640, 640))"
   ]
  },
  {
   "cell_type": "code",
   "execution_count": 4,
   "id": "4b554dfe",
   "metadata": {},
   "outputs": [],
   "source": [
    "# Fixing the file extensions\n",
    "YALE_DIR = \"../data/yalefaces\"\n",
    "files = os.listdir(YALE_DIR)[1:]\n",
    "for i, img in enumerate(files):\n",
    "    # print(\"original name: \", img)\n",
    "    new_ext_name = \"_\".join(img.split(\".\")) + \".gif\"\n",
    "    # print(\"new name: \",  new_ext_name)\n",
    "    os.rename(os.path.join(YALE_DIR, img), os.path.join(YALE_DIR, new_ext_name))"
   ]
  },
  {
   "cell_type": "code",
   "execution_count": 5,
   "id": "b0d7deca",
   "metadata": {},
   "outputs": [],
   "source": [
    "def create_probe_eval_set(files: List):\n",
    "    # pick random index between 0 and len(files)-1\n",
    "    random_idx = np.random.randint(0,len(files))\n",
    "    probe_img_fpaths = [files[random_idx]]\n",
    "    eval_img_fpaths = [files[idx] for idx in range(len(files)) if idx != random_idx]\n",
    "    \n",
    "    return probe_img_fpaths, eval_img_fpaths"
   ]
  },
  {
   "cell_type": "code",
   "execution_count": 6,
   "id": "31553c02",
   "metadata": {},
   "outputs": [],
   "source": [
    "def generate_embs(img_fpaths: List[str]):\n",
    "    embs_set = list()\n",
    "    embs_label = list()\n",
    "\n",
    "    for img_fpath in img_fpaths:  \n",
    "                    \n",
    "        # read grayscale img\n",
    "        img = Image.open(os.path.join(YALE_DIR, img_fpath)) \n",
    "        img_arr = np.asarray(img)  \n",
    "        \n",
    "        # convert grayscale to rgb\n",
    "        im = Image.fromarray((img_arr * 255).astype(np.uint8))\n",
    "        rgb_arr = np.asarray(im.convert('RGB'))       \n",
    "       \n",
    "        # generate Insightface embedding\n",
    "        res = app.get(rgb_arr)          \n",
    "        # append emb to the eval set\n",
    "        embs_set.append(res)          \n",
    "        # append label to eval_label set\n",
    "        embs_label.append(img_fpath.split(\"_\")[0])          \n",
    "\n",
    "    return embs_set, embs_label\n",
    "    "
   ]
  },
  {
   "cell_type": "code",
   "execution_count": 7,
   "id": "c6face5b",
   "metadata": {},
   "outputs": [],
   "source": [
    "def filter_empty_embs(img_set: List, img_labels: List[str]):\n",
    "    # filtering where insightface could not generate an embedding\n",
    "    good_idx = [i for i,x in enumerate(img_set) if x]\n",
    "    \n",
    "    if len(good_idx) == len(img_set):\n",
    "        clean_embs = [e[0].embedding for e in img_set]\n",
    "        clean_labels = img_labels\n",
    "        \n",
    "    else:\n",
    "        # filtering eval set and labels based on good idx\n",
    "        clean_labels = np.array(img_labels)[good_idx]\n",
    "        clean_set = np.array(img_set, dtype=object)[good_idx]\n",
    "        \n",
    "        # generating embs for good idx\n",
    "        clean_embs = [e[0].embedding for e in clean_set]\n",
    "    \n",
    "    return clean_embs, clean_labels"
   ]
  },
  {
   "cell_type": "code",
   "execution_count": 8,
   "id": "d7a28575",
   "metadata": {},
   "outputs": [
    {
     "name": "stderr",
     "output_type": "stream",
     "text": [
      "100%|██████████| 16/16 [03:34<00:00, 13.40s/it]\n"
     ]
    }
   ],
   "source": [
    "# sorting files\n",
    "files = os.listdir(YALE_DIR)\n",
    "files.sort()\n",
    "eval_set = list()\n",
    "eval_labels = list()\n",
    "probe_set = list()\n",
    "probe_labels = list()\n",
    "IMAGES_PER_IDENTITY = 11\n",
    "for i in tqdm(range(1, len(files), IMAGES_PER_IDENTITY), unit_divisor=True): # ignore the README.txt file at files[0]\n",
    "    # print(i)\n",
    "    probe, eval = create_probe_eval_set(files[i:i+IMAGES_PER_IDENTITY])\n",
    "    \n",
    "    # store eval embs and labels\n",
    "    eval_set_t, eval_labels_t = generate_embs(eval)\n",
    "    eval_set.extend(eval_set_t)\n",
    "    eval_labels.extend(eval_labels_t)\n",
    "    \n",
    "    # store probe embs and labels\n",
    "    probe_set_t, probe_labels_t = generate_embs(probe)\n",
    "    probe_set.extend(probe_set_t)\n",
    "    probe_labels.extend(probe_labels_t)\n",
    "    "
   ]
  },
  {
   "cell_type": "code",
   "execution_count": 9,
   "id": "88c344f0",
   "metadata": {},
   "outputs": [],
   "source": [
    "assert len(eval_set) == len(eval_labels)\n",
    "assert len(probe_set) == len(probe_labels)"
   ]
  },
  {
   "cell_type": "code",
   "execution_count": 10,
   "id": "f5047c51",
   "metadata": {},
   "outputs": [],
   "source": [
    "evaluation_embs, evaluation_labels = filter_empty_embs(eval_set, eval_labels)\n",
    "probe_embs, probe_labels = filter_empty_embs(probe_set, probe_labels)"
   ]
  },
  {
   "cell_type": "code",
   "execution_count": 11,
   "id": "a4962b1f",
   "metadata": {},
   "outputs": [],
   "source": [
    "assert len(evaluation_embs) == len(evaluation_labels)\n",
    "assert len(probe_embs) == len(probe_labels)"
   ]
  },
  {
   "cell_type": "code",
   "execution_count": null,
   "id": "39e323e7",
   "metadata": {},
   "outputs": [],
   "source": []
  }
 ],
 "metadata": {
  "kernelspec": {
   "display_name": "face-recognition",
   "language": "python",
   "name": "face_search_env"
  },
  "language_info": {
   "codemirror_mode": {
    "name": "ipython",
    "version": 3
   },
   "file_extension": ".py",
   "mimetype": "text/x-python",
   "name": "python",
   "nbconvert_exporter": "python",
   "pygments_lexer": "ipython3",
   "version": "3.6.2"
  }
 },
 "nbformat": 4,
 "nbformat_minor": 5
}
